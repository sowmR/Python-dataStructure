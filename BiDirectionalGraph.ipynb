{
 "cells": [
  {
   "cell_type": "code",
   "execution_count": 18,
   "id": "cooked-pontiac",
   "metadata": {},
   "outputs": [],
   "source": [
    "class Graph:\n",
    "    def __init__(self):\n",
    "        self.child = {}\n",
    "    \n",
    "    def printGraph(self):\n",
    "        for vertex in self.child:\n",
    "            print(\"{} : {}\".format(vertex, self.child[vertex]))\n",
    "            \n",
    "    def add_vertex(self, vertex):\n",
    "        if vertex not in self.child.keys():\n",
    "            self.child[vertex]=[]\n",
    "            return True\n",
    "        return False\n",
    "    \n",
    "    def add_edge(self, v1,v2):\n",
    "        if v1 in self.child.keys() and v2 in self.child.keys():\n",
    "            if (v2 not in self.child[v1]):\n",
    "                self.child[v1].append(v2)\n",
    "            if (v1 not in self.child[v2]):\n",
    "                self.child[v2].append(v1)\n",
    "            return True\n",
    "        return False\n",
    "    \n",
    "    def remove_edge(self, v1, v2):\n",
    "        if v1 in self.child.keys() and v2 in self.child.keys():\n",
    "            if (v2 in self.child[v1]) and (v1 in self.child[v2]):\n",
    "                self.child[v1].remove(v2)\n",
    "                self.child[v2].remove(v1)\n",
    "                return True\n",
    "        return False \n",
    "    \n",
    "    \n",
    "    \n",
    "    def remove_vertex(self, v):\n",
    "        if v in self.child.keys():\n",
    "            for k in self.child.keys():\n",
    "                if v in self.child[k]:\n",
    "                    self.child[k].remove(v)\n",
    "            del self.child[v]\n",
    "            return True\n",
    "                \n",
    "        return False \n",
    "    \n",
    "            "
   ]
  },
  {
   "cell_type": "code",
   "execution_count": 20,
   "id": "exotic-scholarship",
   "metadata": {},
   "outputs": [
    {
     "name": "stdout",
     "output_type": "stream",
     "text": [
      "a : ['b', 'c']\n",
      "b : ['a']\n",
      "c : ['a', 'd', 'e']\n",
      "d : ['c']\n",
      "e : ['c']\n",
      "True\n",
      "a : ['c']\n",
      "c : ['a', 'd', 'e']\n",
      "d : ['c']\n",
      "e : ['c']\n"
     ]
    }
   ],
   "source": [
    "GR =Graph()\n",
    "GR.add_vertex(\"a\")\n",
    "GR.add_vertex(\"b\")\n",
    "GR.add_vertex(\"c\")\n",
    "GR.add_vertex(\"d\")\n",
    "GR.add_vertex(\"e\")\n",
    "GR.add_edge(\"a\",\"b\")\n",
    "GR.add_edge(\"a\",\"c\")\n",
    "GR.add_edge(\"c\",\"d\")\n",
    "GR.add_edge(\"c\",\"e\")\n",
    "GR.printGraph()\n",
    "print(GR.remove_vertex(\"b\"))\n",
    "GR.printGraph()"
   ]
  },
  {
   "cell_type": "code",
   "execution_count": null,
   "id": "interracial-heavy",
   "metadata": {},
   "outputs": [],
   "source": []
  }
 ],
 "metadata": {
  "kernelspec": {
   "display_name": "Python 3",
   "language": "python",
   "name": "python3"
  },
  "language_info": {
   "codemirror_mode": {
    "name": "ipython",
    "version": 3
   },
   "file_extension": ".py",
   "mimetype": "text/x-python",
   "name": "python",
   "nbconvert_exporter": "python",
   "pygments_lexer": "ipython3",
   "version": "3.9.2"
  }
 },
 "nbformat": 4,
 "nbformat_minor": 5
}
