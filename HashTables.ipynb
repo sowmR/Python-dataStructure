{
 "cells": [
  {
   "cell_type": "code",
   "execution_count": 13,
   "id": "essential-recovery",
   "metadata": {},
   "outputs": [],
   "source": [
    " class HashTable:\n",
    "        def __init__(self, size=7):\n",
    "            self.data_map = [None] * size\n",
    "            \n",
    "        def __hash(self,key):\n",
    "            '''\n",
    "                This a hash function definition for the key as input. \n",
    "                ord(letter) => gets the ascii numerical value for the letter.\n",
    "                we take each letter in the \"key\" value, get their corresponding ASCII numeric value, multiply the value by 23\n",
    "                we use 23 because it is a prime number. It can be changed with any prime number.\n",
    "            '''\n",
    "            my_hash = 0\n",
    "            for letter in key:\n",
    "                my_hash = (my_hash +ord(letter)* 23)% len(self.data_map)\n",
    "            return my_hash\n",
    "        \n",
    "        def printTable(self):\n",
    "            for i,val in enumerate(self.data_map):\n",
    "                print(i,\": \", val)\n",
    "                \n",
    "        def set_item(self, key, value):\n",
    "            index = self.__hash(key)\n",
    "            if self.data_map[index] == None:\n",
    "                self.data_map[index]=[]\n",
    "            self.data_map[index].append([key,value])\n",
    "        \n",
    "        def get_item(self,key):\n",
    "            index = self.__hash(key)\n",
    "            if self.data_map[index] is not None:\n",
    "                for i in range(len(self.data_map[index])):\n",
    "                    if self.data_map[index][i][0] == key:\n",
    "                        return self.data_map[index][i][1]\n",
    "            return None\n",
    "        \n",
    "        def keys(self):\n",
    "            keyList = []\n",
    "            for i in range(len(self.data_map)):\n",
    "                if self.data_map[i] is not None:\n",
    "                    for j in range(len(self.data_map[i])):\n",
    "                        keyList.append(self.data_map[i][j][0])\n",
    "            return keyList"
   ]
  },
  {
   "cell_type": "code",
   "execution_count": 14,
   "id": "olympic-showcase",
   "metadata": {},
   "outputs": [
    {
     "name": "stdout",
     "output_type": "stream",
     "text": [
      "0 :  None\n",
      "1 :  None\n",
      "2 :  None\n",
      "3 :  None\n",
      "4 :  [['washers', 400]]\n",
      "5 :  [['bolt', 1000]]\n",
      "6 :  [['nuts', 800]]\n",
      "800\n",
      "None\n",
      "['washers', 'bolt', 'nuts']\n"
     ]
    }
   ],
   "source": [
    "HT = HashTable()\n",
    "HT.set_item(\"bolt\", 1000)\n",
    "HT.set_item(\"nuts\", 800)\n",
    "HT.set_item(\"washers\",400)\n",
    "HT.printTable()\n",
    "print(HT.get_item(\"nuts\"))\n",
    "print(HT.get_item(\"lumber\"))\n",
    "print(HT.keys())"
   ]
  },
  {
   "cell_type": "code",
   "execution_count": null,
   "id": "centered-verification",
   "metadata": {},
   "outputs": [],
   "source": []
  }
 ],
 "metadata": {
  "kernelspec": {
   "display_name": "Python 3",
   "language": "python",
   "name": "python3"
  },
  "language_info": {
   "codemirror_mode": {
    "name": "ipython",
    "version": 3
   },
   "file_extension": ".py",
   "mimetype": "text/x-python",
   "name": "python",
   "nbconvert_exporter": "python",
   "pygments_lexer": "ipython3",
   "version": "3.9.2"
  }
 },
 "nbformat": 4,
 "nbformat_minor": 5
}
