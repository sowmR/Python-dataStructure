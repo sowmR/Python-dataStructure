{
  "cells": [
    {
      "cell_type": "code",
      "execution_count": null,
      "id": "earlier-polymer",
      "metadata": {
        "id": "earlier-polymer"
      },
      "outputs": [],
      "source": [
        "# time: O(n**2)\n",
        "# space: O(1)\n",
        "def bubbleSort(givenList):\n",
        "    for i in range(len(givenList)-1,0,-1):\n",
        "        for j in range(i):\n",
        "            if givenList[j]> givenList[j+1]:\n",
        "                tmp = givenList[j]\n",
        "                givenList[j]= givenList[j+1]\n",
        "                givenList[j+1]= tmp\n",
        "    return givenList"
      ]
    },
    {
      "cell_type": "code",
      "execution_count": null,
      "id": "thousand-archive",
      "metadata": {
        "id": "thousand-archive"
      },
      "outputs": [],
      "source": [
        "# time: O(n**2)\n",
        "# space: O(1)\n",
        "def selectionSort(givenList):\n",
        "    minIndex = 0 # index where the minimum value is\n",
        "    N = len(givenList)\n",
        "    for i in range(N-1):\n",
        "        minIndex = i\n",
        "        for j in range(i+1, N):\n",
        "            if (givenList[j]<givenList[minIndex]):\n",
        "                minIndex = j\n",
        "        if i != minIndex:\n",
        "            # if i== minIndex then the smaller value is already in place. no need for swapping\n",
        "            tmp = givenList[i]\n",
        "            givenList[i] = givenList[minIndex]\n",
        "            givenList[minIndex]= tmp\n",
        "    return givenList\n",
        "            "
      ]
    },
    {
      "cell_type": "code",
      "execution_count": null,
      "id": "continental-syntax",
      "metadata": {
        "id": "continental-syntax"
      },
      "outputs": [],
      "source": [
        "# time: O(n**2)\n",
        "# space: O(1)\n",
        "def insertionSort(givenList):\n",
        "    for i in range(1, len(givenList)):\n",
        "        tmp = givenList[i]\n",
        "        j = i-1\n",
        "        while tmp < givenList[j] and j > -1:\n",
        "            givenList[j+1] = givenList[j] \n",
        "            givenList[j] = tmp\n",
        "            j -= 1\n",
        "    return givenList"
      ]
    },
    {
      "cell_type": "code",
      "execution_count": null,
      "id": "fourth-weather",
      "metadata": {
        "id": "fourth-weather"
      },
      "outputs": [],
      "source": [
        "# time: O(n log(n))\n",
        "# space: O(n)\n",
        "def merge(list1, list2):\n",
        "    combined = []\n",
        "    i = 0\n",
        "    j = 0\n",
        "    while i < len(list1) and j < len(list2):\n",
        "        if list1[i] < list2[j]:\n",
        "            combined.append(list1[i])\n",
        "            i += 1\n",
        "        else:\n",
        "            combined.append(list2[j])\n",
        "            j += 1\n",
        "              \n",
        "    while i < len(list1):\n",
        "        combined.append(list1[i])\n",
        "        i += 1\n",
        "\n",
        "    while j < len(list2):\n",
        "        combined.append(list2[j])\n",
        "        j += 1\n",
        "\n",
        "    return combined\n",
        "\n",
        "\n",
        "def mergeSort(givenList):\n",
        "    if len(givenList) == 1:\n",
        "        return givenList\n",
        "    mid = int(len(givenList)/2)\n",
        "    left = givenList[:mid]\n",
        "    right = givenList[mid:]\n",
        "    return merge(merge_sort(left), merge_sort(right))"
      ]
    },
    {
      "cell_type": "code",
      "execution_count": null,
      "id": "usual-registration",
      "metadata": {
        "id": "usual-registration"
      },
      "outputs": [],
      "source": [
        "# time: O(n**2)\n",
        "# space: O(log(n))\n",
        "def swap(givenList, index1, index2):\n",
        "    temp = givenList[index1]\n",
        "    givenList[index1] = givenList[index2]\n",
        "    givenList[index2] = temp\n",
        "\n",
        "\n",
        "def pivot(givenList, pivot_index, end_index):\n",
        "    swap_index = pivot_index\n",
        "\n",
        "    for i in range(pivot_index+1, end_index+1):\n",
        "        if givenList[i] < givenList[pivot_index]:\n",
        "            swap_index += 1\n",
        "            swap(givenList, swap_index, i)\n",
        "    swap(givenList, pivot_index, swap_index)\n",
        "    return swap_index\n",
        "\n",
        "\n",
        "def quickSort_helper(givenList, left, right):\n",
        "    if left < right:\n",
        "        pivot_index = pivot(givenList, left, right)\n",
        "        quick_sort_helper(givenList, left, pivot_index-1)  \n",
        "        quick_sort_helper(givenList, pivot_index+1, right)       \n",
        "    return givenList\n",
        "\n",
        "def quickSort(givenList):\n",
        "    return quick_sort_helper(givenList, 0, len(givenList)-1)"
      ]
    },
    {
      "cell_type": "code",
      "execution_count": null,
      "id": "great-norfolk",
      "metadata": {
        "id": "great-norfolk"
      },
      "outputs": [],
      "source": [
        ""
      ]
    },
    {
      "cell_type": "code",
      "execution_count": null,
      "id": "alternate-state",
      "metadata": {
        "id": "alternate-state",
        "outputId": "8b843aa4-c235-4528-c9f4-0657a23e181f"
      },
      "outputs": [
        {
          "name": "stdout",
          "output_type": "stream",
          "text": [
            "[3, 5, 8]\n"
          ]
        }
      ],
      "source": [
        "list1 = [5,3,8]\n",
        "print(quickSort(list1))"
      ]
    },
    {
      "cell_type": "code",
      "execution_count": null,
      "id": "assigned-integration",
      "metadata": {
        "id": "assigned-integration"
      },
      "outputs": [],
      "source": [
        ""
      ]
    }
  ],
  "metadata": {
    "kernelspec": {
      "display_name": "Python 3",
      "language": "python",
      "name": "python3"
    },
    "language_info": {
      "codemirror_mode": {
        "name": "ipython",
        "version": 3
      },
      "file_extension": ".py",
      "mimetype": "text/x-python",
      "name": "python",
      "nbconvert_exporter": "python",
      "pygments_lexer": "ipython3",
      "version": "3.9.2"
    },
    "colab": {
      "name": "Sorting.ipynb",
      "provenance": []
    }
  },
  "nbformat": 4,
  "nbformat_minor": 5
}