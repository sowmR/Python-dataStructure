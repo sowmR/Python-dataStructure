{
  "nbformat": 4,
  "nbformat_minor": 0,
  "metadata": {
    "colab": {
      "name": "reorderLinkedList.ipynb",
      "provenance": [],
      "collapsed_sections": [],
      "authorship_tag": "ABX9TyM3VDy7a4tbgbHdc71fO0po",
      "include_colab_link": true
    },
    "kernelspec": {
      "name": "python3",
      "display_name": "Python 3"
    },
    "language_info": {
      "name": "python"
    }
  },
  "cells": [
    {
      "cell_type": "markdown",
      "metadata": {
        "id": "view-in-github",
        "colab_type": "text"
      },
      "source": [
        "<a href=\"https://colab.research.google.com/github/sowmR/Python-dataStructure/blob/main/reorderLinkedList.ipynb\" target=\"_parent\"><img src=\"https://colab.research.google.com/assets/colab-badge.svg\" alt=\"Open In Colab\"/></a>"
      ]
    },
    {
      "cell_type": "markdown",
      "source": [
        "You are given the head of a singly linked-list. The list can be represented as:\n",
        "\n",
        "L0 → L1 → … → Ln - 1 → Ln\n",
        "\n",
        "Reorder the list to be on the following form:\n",
        "\n",
        "L0 → Ln → L1 → Ln - 1 → L2 → Ln - 2 → …\n",
        "\n",
        "You may not modify the values in the list's nodes. Only nodes themselves may be changed.\n",
        "\n",
        "**Constraints:**\n",
        "\n",
        "The number of nodes in the list is in the range [1, 5 * 104].\n",
        "\n",
        "1 <= Node.val <= 1000"
      ],
      "metadata": {
        "id": "3BwBgR_FYHs4"
      }
    },
    {
      "cell_type": "markdown",
      "source": [
        "### Example-1:\n",
        "\n",
        "Input: head = [1,2,3,4]\n",
        "\n",
        "Output: [1,4,2,3]"
      ],
      "metadata": {
        "id": "z65zDMFFYOBq"
      }
    },
    {
      "cell_type": "markdown",
      "source": [
        "# Example - 2:\n",
        "\n",
        "Input: head = [1,2,3,4,5]\n",
        "\n",
        "Output: [1,5,2,4,3]"
      ],
      "metadata": {
        "id": "-d2sydX5YTAU"
      }
    },
    {
      "cell_type": "code",
      "execution_count": 26,
      "metadata": {
        "id": "nF4L6eHtX6lO"
      },
      "outputs": [],
      "source": [
        "class Node:\n",
        "  def __init__(self,value):\n",
        "    self.value = value\n",
        "    self.next = None\n",
        "\n",
        "class LinkedList:\n",
        "  def __init__(self,value):\n",
        "    newNode= Node(value)\n",
        "    self.head = newNode\n",
        "    self.tail = newNode\n",
        "\n",
        "  def printNodes(self):\n",
        "    tmp = self.head\n",
        "    tstr = []\n",
        "    while tmp is not None:\n",
        "      tstr.append(tmp.value)\n",
        "      tmp=tmp.next\n",
        "    print(tstr)\n",
        "\n",
        "  def insert(self,value, nextTo = None):\n",
        "    newNode = Node(value)\n",
        "    if nextTo is None:\n",
        "      # add to the tail.\n",
        "      self.tail.next= newNode\n",
        "      self.tail = newNode\n",
        "    else:\n",
        "      tmp = self.head\n",
        "      while tmp is not None:\n",
        "        if tmp.value == nextTo.value:\n",
        "          _nxt = tmp.next\n",
        "          tmp.next = newNode\n",
        "          newNode.next = _nxt\n",
        "          if _nxt is None:\n",
        "            self.tail = newNode\n",
        "          break\n",
        "    self.printNodes()\n",
        "\n",
        "  # NEED to FIX THIS CODE. IT IS CREATING INFINITE LOOP\n",
        "  def reArrange(self):\n",
        "    if self.head is None:\n",
        "      return\n",
        "    if self.head.next == self.tail:\n",
        "      return\n",
        "    iNode = self.head\n",
        "    lastBefore = None\n",
        "    while iNode.next != self.tail:\n",
        "      print(iNode.next.value,self.tail.value)\n",
        "      # get the newTail node\n",
        "      tmp = self.head\n",
        "      while tmp is not None:\n",
        "        if tmp.value != self.tail.value:\n",
        "          lastBefore = tmp\n",
        "        print(tmp.value)\n",
        "        tmp = tmp.next\n",
        "      iNode = iNode.next\n",
        "      print(iNode.value)\n",
        "      self.insert(self.tail.value, iNode)\n",
        "      lastBefore.next = None\n",
        "      self.tail = lastBefore\n",
        "      self.printNodes()\n",
        "    "
      ]
    },
    {
      "cell_type": "code",
      "source": [
        "inputdata = [1,2,3,4,5]\n",
        "LL = LinkedList(inputdata[0])\n",
        "for i in range(1, len(inputdata)):\n",
        "  LL.insert(inputdata[i])\n",
        "\n",
        "LL.reArrange()"
      ],
      "metadata": {
        "colab": {
          "base_uri": "https://localhost:8080/",
          "height": 536
        },
        "id": "cNcsMNe1Z5NJ",
        "outputId": "6367e55f-f9c6-4984-9e70-92544f9073dd"
      },
      "execution_count": 27,
      "outputs": [
        {
          "output_type": "stream",
          "name": "stdout",
          "text": [
            "[1, 2]\n",
            "[1, 2, 3]\n",
            "[1, 2, 3, 4]\n",
            "[1, 2, 3, 4, 5]\n",
            "2 5\n",
            "1\n",
            "2\n",
            "3\n",
            "4\n",
            "5\n",
            "2\n"
          ]
        },
        {
          "output_type": "error",
          "ename": "KeyboardInterrupt",
          "evalue": "ignored",
          "traceback": [
            "\u001b[0;31m---------------------------------------------------------------------------\u001b[0m",
            "\u001b[0;31mKeyboardInterrupt\u001b[0m                         Traceback (most recent call last)",
            "\u001b[0;32m<ipython-input-27-c7471bf6c100>\u001b[0m in \u001b[0;36m<module>\u001b[0;34m()\u001b[0m\n\u001b[1;32m      4\u001b[0m   \u001b[0mLL\u001b[0m\u001b[0;34m.\u001b[0m\u001b[0minsert\u001b[0m\u001b[0;34m(\u001b[0m\u001b[0minputdata\u001b[0m\u001b[0;34m[\u001b[0m\u001b[0mi\u001b[0m\u001b[0;34m]\u001b[0m\u001b[0;34m)\u001b[0m\u001b[0;34m\u001b[0m\u001b[0;34m\u001b[0m\u001b[0m\n\u001b[1;32m      5\u001b[0m \u001b[0;34m\u001b[0m\u001b[0m\n\u001b[0;32m----> 6\u001b[0;31m \u001b[0mLL\u001b[0m\u001b[0;34m.\u001b[0m\u001b[0mreArrange\u001b[0m\u001b[0;34m(\u001b[0m\u001b[0;34m)\u001b[0m\u001b[0;34m\u001b[0m\u001b[0;34m\u001b[0m\u001b[0m\n\u001b[0m",
            "\u001b[0;32m<ipython-input-26-ccbc71ac9782>\u001b[0m in \u001b[0;36mreArrange\u001b[0;34m(self)\u001b[0m\n\u001b[1;32m     54\u001b[0m       \u001b[0miNode\u001b[0m \u001b[0;34m=\u001b[0m \u001b[0miNode\u001b[0m\u001b[0;34m.\u001b[0m\u001b[0mnext\u001b[0m\u001b[0;34m\u001b[0m\u001b[0;34m\u001b[0m\u001b[0m\n\u001b[1;32m     55\u001b[0m       \u001b[0mprint\u001b[0m\u001b[0;34m(\u001b[0m\u001b[0miNode\u001b[0m\u001b[0;34m.\u001b[0m\u001b[0mvalue\u001b[0m\u001b[0;34m)\u001b[0m\u001b[0;34m\u001b[0m\u001b[0;34m\u001b[0m\u001b[0m\n\u001b[0;32m---> 56\u001b[0;31m       \u001b[0mself\u001b[0m\u001b[0;34m.\u001b[0m\u001b[0minsert\u001b[0m\u001b[0;34m(\u001b[0m\u001b[0mself\u001b[0m\u001b[0;34m.\u001b[0m\u001b[0mtail\u001b[0m\u001b[0;34m.\u001b[0m\u001b[0mvalue\u001b[0m\u001b[0;34m,\u001b[0m \u001b[0miNode\u001b[0m\u001b[0;34m)\u001b[0m\u001b[0;34m\u001b[0m\u001b[0;34m\u001b[0m\u001b[0m\n\u001b[0m\u001b[1;32m     57\u001b[0m       \u001b[0mlastBefore\u001b[0m\u001b[0;34m.\u001b[0m\u001b[0mnext\u001b[0m \u001b[0;34m=\u001b[0m \u001b[0;32mNone\u001b[0m\u001b[0;34m\u001b[0m\u001b[0;34m\u001b[0m\u001b[0m\n\u001b[1;32m     58\u001b[0m       \u001b[0mself\u001b[0m\u001b[0;34m.\u001b[0m\u001b[0mtail\u001b[0m \u001b[0;34m=\u001b[0m \u001b[0mlastBefore\u001b[0m\u001b[0;34m\u001b[0m\u001b[0;34m\u001b[0m\u001b[0m\n",
            "\u001b[0;32m<ipython-input-26-ccbc71ac9782>\u001b[0m in \u001b[0;36minsert\u001b[0;34m(self, value, nextTo)\u001b[0m\n\u001b[1;32m     27\u001b[0m       \u001b[0mtmp\u001b[0m \u001b[0;34m=\u001b[0m \u001b[0mself\u001b[0m\u001b[0;34m.\u001b[0m\u001b[0mhead\u001b[0m\u001b[0;34m\u001b[0m\u001b[0;34m\u001b[0m\u001b[0m\n\u001b[1;32m     28\u001b[0m       \u001b[0;32mwhile\u001b[0m \u001b[0mtmp\u001b[0m \u001b[0;32mis\u001b[0m \u001b[0;32mnot\u001b[0m \u001b[0;32mNone\u001b[0m\u001b[0;34m:\u001b[0m\u001b[0;34m\u001b[0m\u001b[0;34m\u001b[0m\u001b[0m\n\u001b[0;32m---> 29\u001b[0;31m         \u001b[0;32mif\u001b[0m \u001b[0mtmp\u001b[0m\u001b[0;34m.\u001b[0m\u001b[0mvalue\u001b[0m \u001b[0;34m==\u001b[0m \u001b[0mnextTo\u001b[0m\u001b[0;34m.\u001b[0m\u001b[0mvalue\u001b[0m\u001b[0;34m:\u001b[0m\u001b[0;34m\u001b[0m\u001b[0;34m\u001b[0m\u001b[0m\n\u001b[0m\u001b[1;32m     30\u001b[0m           \u001b[0m_nxt\u001b[0m \u001b[0;34m=\u001b[0m \u001b[0mtmp\u001b[0m\u001b[0;34m.\u001b[0m\u001b[0mnext\u001b[0m\u001b[0;34m\u001b[0m\u001b[0;34m\u001b[0m\u001b[0m\n\u001b[1;32m     31\u001b[0m           \u001b[0mtmp\u001b[0m\u001b[0;34m.\u001b[0m\u001b[0mnext\u001b[0m \u001b[0;34m=\u001b[0m \u001b[0mnewNode\u001b[0m\u001b[0;34m\u001b[0m\u001b[0;34m\u001b[0m\u001b[0m\n",
            "\u001b[0;31mKeyboardInterrupt\u001b[0m: "
          ]
        }
      ]
    },
    {
      "cell_type": "code",
      "source": [
        ""
      ],
      "metadata": {
        "id": "YqnGtuooaQJq"
      },
      "execution_count": null,
      "outputs": []
    }
  ]
}