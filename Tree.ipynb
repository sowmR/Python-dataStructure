{
 "cells": [
  {
   "cell_type": "code",
   "execution_count": 1,
   "id": "settled-polls",
   "metadata": {},
   "outputs": [],
   "source": [
    "class Node:\n",
    "    def __init__(self, value):\n",
    "        self.value = value\n",
    "        self.left = None\n",
    "        self.right = None "
   ]
  },
  {
   "cell_type": "code",
   "execution_count": 2,
   "id": "finished-philosophy",
   "metadata": {},
   "outputs": [],
   "source": [
    "class BinarySearchTree:\n",
    "    def __init__(self):\n",
    "        self.root = None\n",
    "        \n",
    "    def insert(self, value):\n",
    "        newNode = Node(value)\n",
    "        if self.root == None:\n",
    "            self.root = newNode\n",
    "        else:\n",
    "            tmp = self.root\n",
    "            while True:\n",
    "                if tmp.value == newNode.value:\n",
    "                    return False\n",
    "                if newNode.value < tmp.value:\n",
    "                    if tmp.left == None:\n",
    "                        tmp.left = newNode\n",
    "                        return True\n",
    "                    tmp = tmp.left\n",
    "                else:\n",
    "                    if tmp.right == None:\n",
    "                        tmp.right = newNode\n",
    "                        return True\n",
    "                    tmp = tmp.right\n",
    "    def contains(self, value):\n",
    "        # checks if a value is contained in the tree\n",
    "        tmp = self.root\n",
    "        while tmp is not None:\n",
    "            if (tmp.value == value):\n",
    "                return True\n",
    "            if value > tmp.value:\n",
    "                tmp =tmp.right\n",
    "            elif value<tmp.value:\n",
    "                tmp = tmp.left\n",
    "        return False\n",
    "    \n",
    "    def BFS(self):\n",
    "        # Breadth First Search\n",
    "        currNode = self.root\n",
    "        result = []\n",
    "        queue = []\n",
    "        queue.append(currNode)\n",
    "        while len(queue)>0:\n",
    "            currNode = queue.pop(0)\n",
    "            result.append(currNode.value)\n",
    "            if currNode.left is not None:\n",
    "                queue.append(currNode.left)\n",
    "            if currNode.right is not None:\n",
    "                queue.append(currNode.right)\n",
    "        return result\n",
    "    "
   ]
  },
  {
   "cell_type": "code",
   "execution_count": 3,
   "id": "iraqi-element",
   "metadata": {},
   "outputs": [
    {
     "name": "stdout",
     "output_type": "stream",
     "text": [
      "None\n"
     ]
    }
   ],
   "source": [
    "tree = BinarySearchTree()\n",
    "print(tree.root)"
   ]
  },
  {
   "cell_type": "code",
   "execution_count": 4,
   "id": "interesting-upper",
   "metadata": {},
   "outputs": [
    {
     "data": {
      "text/plain": [
       "True"
      ]
     },
     "execution_count": 4,
     "metadata": {},
     "output_type": "execute_result"
    }
   ],
   "source": [
    "tree.insert(10)\n",
    "tree.insert(11)\n",
    "tree.insert(5)\n",
    "tree.insert(12)\n",
    "tree.insert(35)"
   ]
  },
  {
   "cell_type": "code",
   "execution_count": 5,
   "id": "polished-glance",
   "metadata": {},
   "outputs": [
    {
     "name": "stdout",
     "output_type": "stream",
     "text": [
      "[10, 5, 11, 12, 35]\n"
     ]
    }
   ],
   "source": [
    "print(tree.BFS())"
   ]
  },
  {
   "cell_type": "code",
   "execution_count": null,
   "id": "chinese-listening",
   "metadata": {},
   "outputs": [],
   "source": []
  },
  {
   "cell_type": "code",
   "execution_count": null,
   "id": "checked-honduras",
   "metadata": {},
   "outputs": [],
   "source": []
  }
 ],
 "metadata": {
  "kernelspec": {
   "display_name": "Python 3",
   "language": "python",
   "name": "python3"
  },
  "language_info": {
   "codemirror_mode": {
    "name": "ipython",
    "version": 3
   },
   "file_extension": ".py",
   "mimetype": "text/x-python",
   "name": "python",
   "nbconvert_exporter": "python",
   "pygments_lexer": "ipython3",
   "version": "3.9.2"
  }
 },
 "nbformat": 4,
 "nbformat_minor": 5
}
