{
  "cells": [
    {
      "cell_type": "code",
      "execution_count": null,
      "id": "settled-polls",
      "metadata": {
        "id": "settled-polls"
      },
      "outputs": [],
      "source": [
        "class Node:\n",
        "    def __init__(self, value):\n",
        "        self.value = value\n",
        "        self.left = None\n",
        "        self.right = None "
      ]
    },
    {
      "cell_type": "code",
      "execution_count": null,
      "id": "finished-philosophy",
      "metadata": {
        "id": "finished-philosophy"
      },
      "outputs": [],
      "source": [
        "class BinarySearchTree:\n",
        "    def __init__(self):\n",
        "        self.root = None\n",
        "        \n",
        "    def insert(self, value):\n",
        "        newNode = Node(value)\n",
        "        if self.root == None:\n",
        "            self.root = newNode\n",
        "        else:\n",
        "            tmp = self.root\n",
        "            while True:\n",
        "                if tmp.value == newNode.value:\n",
        "                    return False\n",
        "                if newNode.value < tmp.value:\n",
        "                    if tmp.left == None:\n",
        "                        tmp.left = newNode\n",
        "                        return True\n",
        "                    tmp = tmp.left\n",
        "                else:\n",
        "                    if tmp.right == None:\n",
        "                        tmp.right = newNode\n",
        "                        return True\n",
        "                    tmp = tmp.right\n",
        "    def contains(self, value):\n",
        "        # checks if a value is contained in the tree\n",
        "        tmp = self.root\n",
        "        while tmp is not None:\n",
        "            if (tmp.value == value):\n",
        "                return True\n",
        "            if value > tmp.value:\n",
        "                tmp =tmp.right\n",
        "            elif value<tmp.value:\n",
        "                tmp = tmp.left\n",
        "        return False\n",
        "    \n",
        "    def BFS(self):\n",
        "        # Breadth First Search\n",
        "        currNode = self.root\n",
        "        result = []\n",
        "        queue = []\n",
        "        queue.append(currNode)\n",
        "        while len(queue)>0:\n",
        "            currNode = queue.pop(0)\n",
        "            result.append(currNode.value)\n",
        "            if currNode.left is not None:\n",
        "                queue.append(currNode.left)\n",
        "            if currNode.right is not None:\n",
        "                queue.append(currNode.right)\n",
        "        return result\n",
        "    def DFS_preorder(self):\n",
        "      # Depth first search\n",
        "      results = []\n",
        "      def traverse(curr_node):\n",
        "        results.append(curr_node.value)\n",
        "        if curr_node.left is not None:\n",
        "          traverse(curr_node.left)\n",
        "        if curr_node.right is not None:\n",
        "          traverse(curr_node.right)\n",
        "      traverse(self.root)\n",
        "      return results"
      ]
    },
    {
      "cell_type": "code",
      "execution_count": null,
      "id": "iraqi-element",
      "metadata": {
        "id": "iraqi-element",
        "outputId": "f345e854-20a8-4ce5-b19d-685e1b3bd183"
      },
      "outputs": [
        {
          "name": "stdout",
          "output_type": "stream",
          "text": [
            "None\n"
          ]
        }
      ],
      "source": [
        "tree = BinarySearchTree()\n",
        "print(tree.root)"
      ]
    },
    {
      "cell_type": "code",
      "execution_count": null,
      "id": "interesting-upper",
      "metadata": {
        "id": "interesting-upper",
        "outputId": "1291447d-248b-4ce9-f39a-2c4ca9dbfb59"
      },
      "outputs": [
        {
          "data": {
            "text/plain": [
              "True"
            ]
          },
          "execution_count": 4,
          "metadata": {},
          "output_type": "execute_result"
        }
      ],
      "source": [
        "tree.insert(10)\n",
        "tree.insert(11)\n",
        "tree.insert(5)\n",
        "tree.insert(12)\n",
        "tree.insert(35)"
      ]
    },
    {
      "cell_type": "code",
      "execution_count": null,
      "id": "polished-glance",
      "metadata": {
        "id": "polished-glance",
        "outputId": "47b8aae1-a576-411a-ef3f-040d6ecbefbc"
      },
      "outputs": [
        {
          "name": "stdout",
          "output_type": "stream",
          "text": [
            "[10, 5, 11, 12, 35]\n"
          ]
        }
      ],
      "source": [
        "print(tree.BFS())"
      ]
    },
    {
      "cell_type": "code",
      "execution_count": null,
      "id": "chinese-listening",
      "metadata": {
        "id": "chinese-listening"
      },
      "outputs": [],
      "source": [
        ""
      ]
    },
    {
      "cell_type": "code",
      "execution_count": null,
      "id": "checked-honduras",
      "metadata": {
        "id": "checked-honduras"
      },
      "outputs": [],
      "source": [
        ""
      ]
    }
  ],
  "metadata": {
    "kernelspec": {
      "display_name": "Python 3",
      "language": "python",
      "name": "python3"
    },
    "language_info": {
      "codemirror_mode": {
        "name": "ipython",
        "version": 3
      },
      "file_extension": ".py",
      "mimetype": "text/x-python",
      "name": "python",
      "nbconvert_exporter": "python",
      "pygments_lexer": "ipython3",
      "version": "3.9.2"
    },
    "colab": {
      "name": "Tree.ipynb",
      "provenance": []
    }
  },
  "nbformat": 4,
  "nbformat_minor": 5
}