{
 "cells": [
  {
   "cell_type": "markdown",
   "id": "controversial-consortium",
   "metadata": {},
   "source": [
    "Big O\n",
    "Big O is a way of comparing two coding logic .\n",
    "Example, we have two codes: code1 and Code2\n",
    "\n",
    "Time complexity: How long does it take it complete the number of operations. \n",
    "Space complexity: How much memory space a code takes to execute.\n",
    "Hence when deciding the algorithm, we need to check what is the priority- time or space complexity.\n",
    "\n",
    "In datastructure, there are three main symbols to remember dealing with time/space complexity. \n",
    "\n",
    "lambda - Best case\n",
    "theta - median case\n",
    "Omecrone (Big O) - Worst case\n",
    "\n",
    "Example. we have a list [1,2,3,4,5,6,7,8]\n",
    "If we are looking for 1 in the list, we will get in the first check. While, we will get the 4 as median and 8 as worst case to search as it will have to go through the entire loop to get value. \n",
    "\n",
    "When some one ask about median Big O, they mean theta. There is no median Big O. Big O means worst case. \n",
    "\n",
    "How do we measure Big O:\n",
    "\n",
    "O(n) - where is n = number of operations. \n",
    "In graphical representation, O(n) is always a straight line. Hence it is always proportional. \n",
    "Example:"
   ]
  },
  {
   "cell_type": "markdown",
   "id": "caroline-developer",
   "metadata": {},
   "source": [
    "def printList(n):\n",
    "    for i in range(n):\n",
    "        print(i)\n",
    "\n",
    "printList(6)"
   ]
  },
  {
   "cell_type": "markdown",
   "id": "welsh-extent",
   "metadata": {},
   "source": [
    "In the above example, the worst case complexity to execute the printList(6) function is O(6)"
   ]
  },
  {
   "cell_type": "code",
   "execution_count": null,
   "id": "sharp-collapse",
   "metadata": {},
   "outputs": [],
   "source": [
    "def printList(n):\n",
    "    for i in range(n):\n",
    "        print(i)\n",
    "    for j in range(n):\n",
    "        print(j)\n",
    "\n",
    "printList(6)"
   ]
  },
  {
   "cell_type": "markdown",
   "id": "devoted-treasury",
   "metadata": {},
   "source": [
    "When we have two for loops within the function printList(6), the big O will be assumed as  O(2n). But we will always drop constants to simplify. Hence the Big O will always be O(n)"
   ]
  },
  {
   "cell_type": "code",
   "execution_count": null,
   "id": "gross-charm",
   "metadata": {},
   "outputs": [],
   "source": [
    "def printList1(n):\n",
    "    for i in range(n):\n",
    "        for j in range(n):\n",
    "            print(i,j)\n",
    "\n",
    "            \n",
    "def printList2(n):\n",
    "    for i in range(n):\n",
    "        for j in range(n):\n",
    "            for k in range(n):\n",
    "                print(i,j,k)\n",
    "\n",
    "printList1(6)\n",
    "printLis2(6)"
   ]
  },
  {
   "cell_type": "markdown",
   "id": "specified-insured",
   "metadata": {},
   "source": [
    "When we have one loop with in another loop, we will always have O(n^2). It does not matter if there is one inside another or three inside another.Hence both printList1(n) and printlist2(n) will have O(n^2)"
   ]
  },
  {
   "cell_type": "markdown",
   "id": "quality-mortality",
   "metadata": {},
   "source": [
    "## Drop Non Dominance ##\n",
    "In the below example, we will have O(n^2) and O(n) => O(n^2+n)\n",
    "In this situation, we will drop the non-dominance operation to get the Big O. Here n*n > n. Hence the Big O willbe O(n^2)"
   ]
  },
  {
   "cell_type": "code",
   "execution_count": null,
   "id": "logical-paraguay",
   "metadata": {},
   "outputs": [],
   "source": [
    "def printList(n):\n",
    "    for i in range(n):\n",
    "        for j in range(n):\n",
    "            print(i,j)\n",
    "    \n",
    "    for j in range(n):\n",
    "        print(i,j)\n",
    "        \n",
    "printList(5)"
   ]
  },
  {
   "cell_type": "markdown",
   "id": "durable-geometry",
   "metadata": {},
   "source": [
    "## O(1) ##\n",
    "Int the following function, there is only one step irrespective of what n is. The increase in n will not affect the number of steps. Hence the it is always O(1)"
   ]
  }
 ],
 "metadata": {
  "kernelspec": {
   "display_name": "Python 3",
   "language": "python",
   "name": "python3"
  },
  "language_info": {
   "codemirror_mode": {
    "name": "ipython",
    "version": 3
   },
   "file_extension": ".py",
   "mimetype": "text/x-python",
   "name": "python",
   "nbconvert_exporter": "python",
   "pygments_lexer": "ipython3",
   "version": "3.9.2"
  }
 },
 "nbformat": 4,
 "nbformat_minor": 5
}
