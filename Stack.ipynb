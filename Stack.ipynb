{
 "cells": [
  {
   "cell_type": "code",
   "execution_count": 1,
   "id": "royal-baseline",
   "metadata": {},
   "outputs": [],
   "source": [
    "class Node:\n",
    "    def __init__(self, value):\n",
    "        self.value = value\n",
    "        self.next = None\n",
    "    "
   ]
  },
  {
   "cell_type": "code",
   "execution_count": 3,
   "id": "brilliant-enemy",
   "metadata": {},
   "outputs": [],
   "source": [
    "class Stack:\n",
    "    def __init__(self, value):\n",
    "        newNode = Node(value)\n",
    "        self.top = newNode\n",
    "        self.height = 1\n",
    "        \n",
    "    def printStack(self):\n",
    "        tmp = self.top\n",
    "        while tmp is not None:\n",
    "            print(tmp.value)\n",
    "            tmp = tmp.next\n",
    "            \n",
    "    def push(self, value):\n",
    "        newNode = Node(value)\n",
    "        if self.height ==0:\n",
    "            self.top=newNode\n",
    "        else:\n",
    "            newNode.next = self.top\n",
    "            self.top = newNode\n",
    "        self.height+=1\n",
    "            \n",
    "    def push(self, value):\n",
    "        newNode = Node(value)\n",
    "        if self.height ==0:\n",
    "            self.top=newNode\n",
    "        else:\n",
    "            newNode.next = self.top\n",
    "            self.top = newNode\n",
    "        self.height+=1\n",
    "            \n",
    "    def pop(self):\n",
    "        if self.height ==0:\n",
    "            return None\n",
    "        tmp = self.top\n",
    "        self.top = self.top.next\n",
    "        tmp.next = None\n",
    "        self.height-=1\n",
    "        return tmp\n",
    "    \n",
    "        "
   ]
  },
  {
   "cell_type": "code",
   "execution_count": 8,
   "id": "internal-convertible",
   "metadata": {},
   "outputs": [
    {
     "name": "stdout",
     "output_type": "stream",
     "text": [
      "25\n",
      "51\n",
      "3\n",
      "4\n"
     ]
    }
   ],
   "source": [
    "S= Stack(4)\n",
    "S.push(3)\n",
    "S.push(51)\n",
    "S.push(25)\n",
    "S.printStack()"
   ]
  },
  {
   "cell_type": "code",
   "execution_count": 9,
   "id": "square-grave",
   "metadata": {},
   "outputs": [
    {
     "name": "stdout",
     "output_type": "stream",
     "text": [
      "25 \n",
      "\n",
      "51\n",
      "3\n",
      "4\n"
     ]
    }
   ],
   "source": [
    "print(S.pop().value, '\\n')\n",
    "S.printStack()"
   ]
  },
  {
   "cell_type": "code",
   "execution_count": null,
   "id": "attractive-faith",
   "metadata": {},
   "outputs": [],
   "source": []
  }
 ],
 "metadata": {
  "kernelspec": {
   "display_name": "Python 3",
   "language": "python",
   "name": "python3"
  },
  "language_info": {
   "codemirror_mode": {
    "name": "ipython",
    "version": 3
   },
   "file_extension": ".py",
   "mimetype": "text/x-python",
   "name": "python",
   "nbconvert_exporter": "python",
   "pygments_lexer": "ipython3",
   "version": "3.9.2"
  }
 },
 "nbformat": 4,
 "nbformat_minor": 5
}
