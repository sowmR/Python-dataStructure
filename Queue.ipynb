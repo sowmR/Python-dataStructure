{
 "cells": [
  {
   "cell_type": "code",
   "execution_count": 1,
   "id": "universal-doubt",
   "metadata": {},
   "outputs": [],
   "source": [
    "class Node:\n",
    "    def __init__(self,value):\n",
    "        self.value = value\n",
    "        self.next=None"
   ]
  },
  {
   "cell_type": "code",
   "execution_count": 8,
   "id": "final-notification",
   "metadata": {},
   "outputs": [],
   "source": [
    "class Queue:\n",
    "    def __init__(self, value):\n",
    "        newNode = Node(value)\n",
    "        self.first = newNode\n",
    "        self.last = newNode\n",
    "        self.length = 1\n",
    "    \n",
    "    def printQueue(self):\n",
    "        tmp = self.first\n",
    "        while tmp is not None:\n",
    "            print(tmp.value)\n",
    "            tmp = tmp.next\n",
    "    \n",
    "    def enqueue(self,value):\n",
    "        newNode = Node(value)\n",
    "        if self.length == 0:\n",
    "            self.first = newNode\n",
    "            self.last = newNode\n",
    "        else:\n",
    "            self.last.next = newNode\n",
    "            self.last = newNode\n",
    "        self.length+=1\n",
    "        return True\n",
    "    \n",
    "    def dequeue(self):\n",
    "        if self.length == 0:\n",
    "            return None\n",
    "        tmp = self.first\n",
    "        self.first =self.first.next\n",
    "        tmp.next= None\n",
    "        self.length-=1\n",
    "        if self.length==0:\n",
    "            self.first = None\n",
    "            self.last = None\n",
    "        return tmp\n",
    "    "
   ]
  },
  {
   "cell_type": "code",
   "execution_count": 10,
   "id": "streaming-strength",
   "metadata": {},
   "outputs": [
    {
     "name": "stdout",
     "output_type": "stream",
     "text": [
      "4\n",
      "2\n",
      "3\n",
      "9\n",
      "\n",
      "\n",
      "2\n",
      "3\n",
      "9\n",
      "\n",
      "\n",
      "3\n",
      "9\n"
     ]
    }
   ],
   "source": [
    "Q= Queue(4)\n",
    "Q.enqueue(2)\n",
    "Q.enqueue(3)\n",
    "Q.enqueue(9)\n",
    "Q.printQueue()\n",
    "print(\"\\n\")\n",
    "Q.dequeue()\n",
    "Q.printQueue()\n",
    "print(\"\\n\")\n",
    "Q.dequeue()\n",
    "Q.printQueue()"
   ]
  },
  {
   "cell_type": "code",
   "execution_count": null,
   "id": "gothic-stranger",
   "metadata": {},
   "outputs": [],
   "source": []
  }
 ],
 "metadata": {
  "kernelspec": {
   "display_name": "Python 3",
   "language": "python",
   "name": "python3"
  },
  "language_info": {
   "codemirror_mode": {
    "name": "ipython",
    "version": 3
   },
   "file_extension": ".py",
   "mimetype": "text/x-python",
   "name": "python",
   "nbconvert_exporter": "python",
   "pygments_lexer": "ipython3",
   "version": "3.9.2"
  }
 },
 "nbformat": 4,
 "nbformat_minor": 5
}
