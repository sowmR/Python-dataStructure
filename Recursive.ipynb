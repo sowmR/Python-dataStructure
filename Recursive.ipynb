{
 "cells": [
  {
   "cell_type": "markdown",
   "id": "ultimate-holiday",
   "metadata": {},
   "source": [
    "# Recurvsive function #\n",
    "A function that calls itself\n",
    "\n",
    "### key point ###\n",
    "- The process to execute the steps in each function is same since we call the same function again and again\n",
    "- Each time we call the function, we will make the problem smaller so that at some point, the function will stop calling itself. \n",
    "- The condition at which point the function will stop calling itself, is called the base case. \n",
    "- without proper base case, the recursive function will get into infinite loop which is called stack overflow.\n"
   ]
  },
  {
   "cell_type": "markdown",
   "id": "united-apache",
   "metadata": {},
   "source": [
    "## call stack ##\n",
    "When there are multiple functions nested inside each other, it is called call stack. the inner most function is at the top of the stack. the functions are executed in the order of stack from top to bottom.\n",
    "Example"
   ]
  },
  {
   "cell_type": "code",
   "execution_count": 3,
   "id": "extensive-discussion",
   "metadata": {},
   "outputs": [
    {
     "name": "stdout",
     "output_type": "stream",
     "text": [
      "Three\n",
      "Two\n",
      "One\n"
     ]
    }
   ],
   "source": [
    "def funcThree():\n",
    "    print(\"Three\")\n",
    "def funcTwo():\n",
    "    funcThree()\n",
    "    print(\"Two\")\n",
    "def funcOne():\n",
    "    funcTwo()\n",
    "    print(\"One\")\n",
    "\n",
    "funcOne()"
   ]
  },
  {
   "cell_type": "markdown",
   "id": "daily-guarantee",
   "metadata": {},
   "source": [
    "In the above code, funcOne() calls funcTwo() which inturn calls funcThree(). Hence in the stack order (top down) function execution is\n",
    "- three\n",
    "- two\n",
    "- one"
   ]
  },
  {
   "cell_type": "markdown",
   "id": "integral-wrist",
   "metadata": {},
   "source": [
    "## Factorial ##\n",
    "4! = 4*3*2*1\n",
    "\n",
    "This is a good example for recursion\n",
    "\n",
    "4! = 4*3!\n",
    "\n",
    "3! = 3*2!\n",
    "\n",
    "2! = 2*1!\n",
    "\n",
    "1! = 1\n",
    "\n",
    "Hence in this example, the call stack will execute in the order 1! -> 2! -> 3! -> 4!"
   ]
  },
  {
   "cell_type": "code",
   "execution_count": 4,
   "id": "sitting-customer",
   "metadata": {},
   "outputs": [
    {
     "name": "stdout",
     "output_type": "stream",
     "text": [
      "24\n"
     ]
    }
   ],
   "source": [
    "def factorial(n):\n",
    "    if n==1:\n",
    "        return 1\n",
    "    return n* factorial(n-1)\n",
    "print(factorial(4))"
   ]
  },
  {
   "cell_type": "code",
   "execution_count": null,
   "id": "comprehensive-maple",
   "metadata": {},
   "outputs": [],
   "source": []
  }
 ],
 "metadata": {
  "kernelspec": {
   "display_name": "Python 3",
   "language": "python",
   "name": "python3"
  },
  "language_info": {
   "codemirror_mode": {
    "name": "ipython",
    "version": 3
   },
   "file_extension": ".py",
   "mimetype": "text/x-python",
   "name": "python",
   "nbconvert_exporter": "python",
   "pygments_lexer": "ipython3",
   "version": "3.9.2"
  }
 },
 "nbformat": 4,
 "nbformat_minor": 5
}
