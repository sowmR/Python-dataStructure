{
 "cells": [
  {
   "cell_type": "markdown",
   "id": "cosmetic-lincoln",
   "metadata": {},
   "source": [
    "## Sample tree structure ##\n",
    "\n",
    "                     A\n",
    "            /        |         \\\n",
    "           /         |          \\\n",
    "          C          E           B\n",
    "      /  |  \\       / \\         / \\\n",
    "     /   |   \\     /   \\       /   \\\n",
    "    H    R    F   G    I       V    P            "
   ]
  },
  {
   "cell_type": "code",
   "execution_count": 1,
   "id": "meaningful-taxation",
   "metadata": {},
   "outputs": [],
   "source": [
    "class Tree:\n",
    "    def __init__(self):\n",
    "        self.root = {}\n",
    "    \n",
    "    def printTree(self):\n",
    "        for parent in self.root:\n",
    "            print(\"{} : {}\".format(parent, self.root[parent]))\n",
    "            \n",
    "    def add_parent(self, child):\n",
    "        if child not in self.root.keys():\n",
    "            self.root[child]=[]\n",
    "            return True\n",
    "        return False\n",
    "    \n",
    "    def add_child(self, parentNode,childNode):\n",
    "        if parentNode in self.root.keys():\n",
    "            if (childNode not in self.root[parentNode]):\n",
    "                self.root[parentNode].append(childNode)\n",
    "            return True\n",
    "        return False\n",
    "    \n",
    "    def remove_child(self, child):\n",
    "        if child in self.root.keys():\n",
    "            for v in self.root.keys():\n",
    "                if child in self.root[v]:\n",
    "                    self.root[v].remove(child)\n",
    "            return True\n",
    "        return False \n",
    "    \n",
    "    def remove_parent(self, v):\n",
    "        if v in self.root.keys():\n",
    "            remove_child(v)\n",
    "            del self.root[v]\n",
    "            return True                \n",
    "        return False \n",
    "    \n",
    "    def BFS(self):\n",
    "        parents = self.root.keys()\n",
    "        visited = []\n",
    "        for parent in parents:\n",
    "            if parent not in visited:\n",
    "                visited.append(parent)\n",
    "            if len(self.root[parent])>0:\n",
    "                for i in self.root[parent]:\n",
    "                    if i not in visited:\n",
    "                        visited.append(i)\n",
    "        return visited\n",
    "    \n",
    "    def sortedTree(self):\n",
    "        currLevel = []\n",
    "        parents = list(self.root.keys())\n",
    "        currLevel = [parents[0]]\n",
    "        currRes = currLevel\n",
    "        results = []\n",
    "        while len(currRes)>=1:\n",
    "            results.append(currLevel)\n",
    "            currLevel = []\n",
    "            tmp = []\n",
    "            for i in currRes:\n",
    "                if (i in parents):\n",
    "                    tmp.extend(sorted(self.root[i]))\n",
    "                    currLevel.append(sorted(self.root[i]))\n",
    "                else:\n",
    "                    currLevel.append([])\n",
    "            currRes = tmp\n",
    "        print(results)\n",
    "        \n",
    "            \n",
    "    def BFSort(self):\n",
    "        currLevel = []\n",
    "        parents = list(self.root.keys())\n",
    "        currLevel = [parents[0]]\n",
    "        results = []\n",
    "        while len(currLevel)>=1:\n",
    "            results.append(currLevel)\n",
    "            currRes = []\n",
    "            for i in currLevel:\n",
    "                if (i in parents):\n",
    "                    currRes.extend(sorted(self.root[i]))\n",
    "            currLevel = currRes\n",
    "        print(results)"
   ]
  },
  {
   "cell_type": "code",
   "execution_count": 2,
   "id": "satisfied-exhaust",
   "metadata": {},
   "outputs": [
    {
     "name": "stdout",
     "output_type": "stream",
     "text": [
      "a : ['c', 'e', 'b']\n",
      "c : ['h', 'r', 'f']\n",
      "e : ['g', 'i']\n",
      "b : ['v', 'p']\n",
      "p : ['x', 'y']\n"
     ]
    }
   ],
   "source": [
    "tree = Tree()\n",
    "tree.add_parent('a')\n",
    "tree.add_child('a','c')\n",
    "tree.add_child('a','e')\n",
    "tree.add_child('a','b')\n",
    "\n",
    "tree.add_parent('c')\n",
    "tree.add_child('c','h')\n",
    "tree.add_child('c','r')\n",
    "tree.add_child('c','f')\n",
    "\n",
    "tree.add_parent('e')\n",
    "tree.add_child('e','g')\n",
    "tree.add_child('e','i')\n",
    "\n",
    "tree.add_parent('b')\n",
    "tree.add_child('b','v')\n",
    "tree.add_child('b','p')\n",
    "tree.add_parent('p')\n",
    "tree.add_child('p','x')\n",
    "tree.add_child('p','y')\n",
    "tree.printTree()"
   ]
  },
  {
   "cell_type": "code",
   "execution_count": 3,
   "id": "dried-modern",
   "metadata": {},
   "outputs": [
    {
     "name": "stdout",
     "output_type": "stream",
     "text": [
      "[['a'], [['b', 'c', 'e']], [['p', 'v'], ['f', 'h', 'r'], ['g', 'i']], [['x', 'y'], [], [], [], [], [], []]]\n"
     ]
    }
   ],
   "source": [
    "tree.sortedTree()"
   ]
  },
  {
   "cell_type": "code",
   "execution_count": null,
   "id": "sticky-pittsburgh",
   "metadata": {},
   "outputs": [],
   "source": []
  }
 ],
 "metadata": {
  "kernelspec": {
   "display_name": "Python 3",
   "language": "python",
   "name": "python3"
  },
  "language_info": {
   "codemirror_mode": {
    "name": "ipython",
    "version": 3
   },
   "file_extension": ".py",
   "mimetype": "text/x-python",
   "name": "python",
   "nbconvert_exporter": "python",
   "pygments_lexer": "ipython3",
   "version": "3.9.2"
  }
 },
 "nbformat": 4,
 "nbformat_minor": 5
}
