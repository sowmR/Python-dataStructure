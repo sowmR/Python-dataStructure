{
 "cells": [
  {
   "cell_type": "code",
   "execution_count": 1,
   "id": "variable-livestock",
   "metadata": {},
   "outputs": [],
   "source": [
    "import itertools\n"
   ]
  },
  {
   "cell_type": "code",
   "execution_count": 7,
   "id": "czech-university",
   "metadata": {},
   "outputs": [
    {
     "name": "stdout",
     "output_type": "stream",
     "text": [
      "(0, 1, 2, -2)\n",
      "(0, 1, 2, -1)\n",
      "(0, 1, -2, -1)\n",
      "(0, 2, -2, -1)\n",
      "(1, 2, -2, -1)\n",
      "[[1, 2, -2, -1]]\n"
     ]
    }
   ],
   "source": [
    "class Solution:\n",
    "    def fourSum(self, nums, target):\n",
    "        quadruplets = list(itertools.combinations(set(nums),4))\n",
    "        returnLst = []\n",
    "        for itm in quadruplets:\n",
    "            sum =0\n",
    "            print(itm)\n",
    "            for i in list(itm):\n",
    "                sum = sum+i\n",
    "            if sum==target:\n",
    "                returnLst.append(list(itm))\n",
    "        print(returnLst)\n",
    "Sln = Solution()\n",
    "nums = [1,0,-1,0,-2,2]\n",
    "target = 0\n",
    "Sln.fourSum(nums, target)"
   ]
  },
  {
   "cell_type": "markdown",
   "id": "committed-source",
   "metadata": {},
   "source": [
    "#### Check if a String is a subset of items in a list"
   ]
  },
  {
   "cell_type": "code",
   "execution_count": 9,
   "id": "indie-sodium",
   "metadata": {},
   "outputs": [
    {
     "name": "stdout",
     "output_type": "stream",
     "text": [
      "['testItm', 'test math', 'test']\n"
     ]
    }
   ],
   "source": [
    "def listItemWithSubsets(test_lists,subsetStr):\n",
    "    res = list(filter(lambda x: subsetStr in x, test_list))\n",
    "    return res\n",
    "subs=\"test\"\n",
    "test_list=['testItm', 'item', 'test math','value','sample','test']\n",
    "print(listItemWithSubsets(test_list, subs))"
   ]
  },
  {
   "cell_type": "markdown",
   "id": "fourth-cotton",
   "metadata": {},
   "source": [
    "#### Check if the List Item is a substring of a String"
   ]
  },
  {
   "cell_type": "code",
   "execution_count": 12,
   "id": "prescription-press",
   "metadata": {},
   "outputs": [
    {
     "name": "stdout",
     "output_type": "stream",
     "text": [
      "True\n",
      "False\n"
     ]
    }
   ],
   "source": [
    "def isSubstringInListItem(test_list, string):\n",
    "    res=list(filter(lambda x: x in string, test_list))\n",
    "    return len(res)>0\n",
    "\n",
    "test_list = [\"value\", \"test\",\"key\",\"sample\"]\n",
    "print(isSubstringInListItem(test_list,\"test Str\"))\n",
    "print(isSubstringInListItem(test_list,\"string\"))"
   ]
  },
  {
   "cell_type": "code",
   "execution_count": null,
   "id": "complex-tablet",
   "metadata": {},
   "outputs": [],
   "source": []
  }
 ],
 "metadata": {
  "kernelspec": {
   "display_name": "Python 3",
   "language": "python",
   "name": "python3"
  },
  "language_info": {
   "codemirror_mode": {
    "name": "ipython",
    "version": 3
   },
   "file_extension": ".py",
   "mimetype": "text/x-python",
   "name": "python",
   "nbconvert_exporter": "python",
   "pygments_lexer": "ipython3",
   "version": "3.9.2"
  }
 },
 "nbformat": 4,
 "nbformat_minor": 5
}
